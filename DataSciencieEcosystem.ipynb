{
 "cells": [
  {
   "cell_type": "markdown",
   "id": "7235210c-af34-4410-8ef8-2a4f6b7000bd",
   "metadata": {},
   "source": [
    "# DATA SCIENCE TOOLS AND ECOSYSTEMS "
   ]
  },
  {
   "cell_type": "markdown",
   "id": "e310fa62-8151-4ee6-80ad-1bec86cf9c3d",
   "metadata": {},
   "source": [
    "## Autor:\n",
    "## Cesar Perez"
   ]
  },
  {
   "cell_type": "markdown",
   "id": "05c7aa51-fb9d-43c2-ab60-a0e3ed607416",
   "metadata": {},
   "source": [
    "### En este cuaderno se resumen las herrammientas de ciencia de datos y el ecosistema"
   ]
  },
  {
   "cell_type": "markdown",
   "id": "5de1cbd2-6f31-43d5-a319-770a5a8ea805",
   "metadata": {},
   "source": [
    "### En este ejercicio se familiarizo con Jupyter Notebook a traves de los ejercicios de mencion de lenguajes, bibliotecas  \n",
    "### y conversion de minutos a horas"
   ]
  },
  {
   "cell_type": "markdown",
   "id": "6b05a38f-7961-4d01-8d36-e215245165d8",
   "metadata": {},
   "source": [
    "### Tres de los lenguajes mas usados para la ciencia de datos son: \n",
    "#### 1. Python\n",
    "#### 2. R\n",
    "#### 3. Julia"
   ]
  },
  {
   "cell_type": "markdown",
   "id": "08a05c51-2047-4505-a6a6-ff8432bd6b06",
   "metadata": {},
   "source": [
    "### Algunas bibliotecas mas usadas para la ciencia de datos son:\n",
    "#### 1. TensorFlow\n",
    "#### 2. Matplotlib\n",
    "#### 3. Pandas\n",
    "#### 4. Numpy "
   ]
  },
  {
   "cell_type": "markdown",
   "id": "48ed744a-f6a4-48fc-8a1b-e7a26c8d39c4",
   "metadata": {},
   "source": [
    "| Herramientas de ciencia de datos |\r\n",
    "|----------------------------------|\r\n",
    "| Python                           |\r\n",
    "| R                                |\r\n",
    "| Julia                            |\r\n"
   ]
  },
  {
   "cell_type": "markdown",
   "id": "1afd8970-ba5a-449b-8dfd-6fbb66a30346",
   "metadata": {},
   "source": [
    "### A continuación se muestran algunos ejemplos de evaluación de expresiones aritméticas en Python\n",
    "#### a = 1\n",
    "#### b = 2\n",
    "#### resultado = a*b +2\n",
    "\n"
   ]
  },
  {
   "cell_type": "code",
   "execution_count": 1,
   "id": "d895413e-293a-4b2a-8c93-221e43fa50cc",
   "metadata": {},
   "outputs": [
    {
     "data": {
      "text/plain": [
       "17"
      ]
     },
     "execution_count": 1,
     "metadata": {},
     "output_type": "execute_result"
    }
   ],
   "source": [
    "# Esta es una expresión aritmética simple \n",
    "(3*4) + 5 "
   ]
  },
  {
   "cell_type": "code",
   "execution_count": 4,
   "id": "f9403f54-a97b-431a-ae8a-ab43c4f81841",
   "metadata": {},
   "outputs": [
    {
     "name": "stdout",
     "output_type": "stream",
     "text": [
      "200 minutos equivalen a  3.33 horas\n"
     ]
    }
   ],
   "source": [
    "# Esta operacion convertira 200 minutos a horas \n",
    "minutos = 200\n",
    "horas = minutos / 60\n",
    "print(\"200 minutos equivalen a \", round(horas, 2), \"horas\")"
   ]
  },
  {
   "cell_type": "code",
   "execution_count": null,
   "id": "27234c22-7b59-4e6d-95c0-ad74e3e9590a",
   "metadata": {},
   "outputs": [],
   "source": []
  }
 ],
 "metadata": {
  "kernelspec": {
   "display_name": "Python 3 (ipykernel)",
   "language": "python",
   "name": "python3"
  },
  "language_info": {
   "codemirror_mode": {
    "name": "ipython",
    "version": 3
   },
   "file_extension": ".py",
   "mimetype": "text/x-python",
   "name": "python",
   "nbconvert_exporter": "python",
   "pygments_lexer": "ipython3",
   "version": "3.11.7"
  }
 },
 "nbformat": 4,
 "nbformat_minor": 5
}
